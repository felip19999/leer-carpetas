{
 "cells": [
  {
   "cell_type": "markdown",
   "metadata": {},
   "source": [
    "Cómo recorrer un árbol de archivos y carpetas\n",
    "\n",
    "https://micro.recursospython.com/recursos/como-recorrer-un-arbol-de-archivos-y-carpetas.html"
   ]
  },
  {
   "cell_type": "markdown",
   "metadata": {},
   "source": [
    "C:\\Users\\JFCB\\Documents"
   ]
  },
  {
   "cell_type": "code",
   "execution_count": 17,
   "metadata": {},
   "outputs": [
    {
     "name": "stdout",
     "output_type": "stream",
     "text": [
      "c:\\Users\\JFCB\\Documents\\Recorrer_Carpetas\n",
      "Ruta actual: c:\n",
      "Carpetas: .ipynb_checkpoints, Doc1, Doc2, Doc3\n",
      "Archivos: Recorrer_Carpetas_Ejp1.ipynb\n",
      "Ruta actual: c:.ipynb_checkpoints\n",
      "Carpetas: \n",
      "Archivos: \n",
      "Ruta actual: c:Doc1\n",
      "Carpetas: \n",
      "Archivos: IT-GPDS-GSR2369-AVELE-DS-TRA-0011-R0.PDF, IT-GPDS-GSR2871-ACX-DC-GUI-0001.pdf\n",
      "Ruta actual: c:Doc2\n",
      "Carpetas: \n",
      "Archivos: IT-GPDS-GSR0000-ACX-DC-GUI-0001-R0.pdf, IT-GPDS-GSR0900-SPI-DS-FLC-0001-R0.pdf, IT-GPDS-GSR0900-SPI-DS-GUI-0003-R0.pdf\n",
      "Ruta actual: c:Doc3\n",
      "Carpetas: \n",
      "Archivos: IT-GPDS-GSR2369-AVELE-DS-TRA-0003-R0.PDF\n"
     ]
    }
   ],
   "source": [
    "import os\n",
    "\n",
    "print(os.getcwd())\n",
    "\n",
    "for dirpath, dirnames, filenames in os.walk(\"c:\"):\n",
    "   print(\"Ruta actual:\", dirpath)\n",
    "   print(\"Carpetas:\", \", \".join(dirnames))\n",
    "   print(\"Archivos:\", \", \".join(filenames))\n"
   ]
  },
  {
   "cell_type": "code",
   "execution_count": 25,
   "metadata": {},
   "outputs": [
    {
     "name": "stdout",
     "output_type": "stream",
     "text": [
      "c:\\Users\\JFCB\\Documents\\Recorrer_Carpetas\n",
      "c:Recorrer_Carpetas_Ejp1.ipynb\n",
      "c:Doc1\\IT-GPDS-GSR2369-AVELE-DS-TRA-0011-R0.PDF\n",
      "c:Doc1\\IT-GPDS-GSR2871-ACX-DC-GUI-0001.pdf\n",
      "c:Doc2\\IT-GPDS-GSR0000-ACX-DC-GUI-0001-R0.pdf\n",
      "c:Doc2\\IT-GPDS-GSR0900-SPI-DS-FLC-0001-R0.pdf\n",
      "c:Doc2\\IT-GPDS-GSR0900-SPI-DS-GUI-0003-R0.pdf\n",
      "c:Doc3\\IT-GPDS-GSR2369-AVELE-DS-TRA-0003-R0.PDF\n"
     ]
    }
   ],
   "source": [
    "import os\n",
    "\n",
    "print(os.getcwd())\n",
    "\n",
    "for dirpath, dirnames, filenames in os.walk(\"c:\"):\n",
    "   for name in filenames:\n",
    "    print(os.path.join(dirpath,name))"
   ]
  },
  {
   "cell_type": "code",
   "execution_count": 26,
   "metadata": {},
   "outputs": [
    {
     "name": "stdout",
     "output_type": "stream",
     "text": [
      "c:\\Users\\JFCB\\Documents\\Recorrer_Carpetas\n",
      "c:Recorrer_Carpetas_Ejp1.ipynb\n",
      "c:.ipynb_checkpoints\n",
      "c:Doc1\n",
      "c:Doc2\n",
      "c:Doc3\n",
      "c:Doc1\\IT-GPDS-GSR2369-AVELE-DS-TRA-0011-R0.PDF\n",
      "c:Doc1\\IT-GPDS-GSR2871-ACX-DC-GUI-0001.pdf\n",
      "c:Doc2\\IT-GPDS-GSR0000-ACX-DC-GUI-0001-R0.pdf\n",
      "c:Doc2\\IT-GPDS-GSR0900-SPI-DS-FLC-0001-R0.pdf\n",
      "c:Doc2\\IT-GPDS-GSR0900-SPI-DS-GUI-0003-R0.pdf\n",
      "c:Doc3\\IT-GPDS-GSR2369-AVELE-DS-TRA-0003-R0.PDF\n"
     ]
    }
   ],
   "source": [
    "import os\n",
    "\n",
    "print(os.getcwd())\n",
    "\n",
    "for dirpath, dirnames, filenames in os.walk(\"c:\"):\n",
    "   for name in filenames:\n",
    "    print(os.path.join(dirpath,name))\n",
    "   for name in dirnames:\n",
    "    print(os.path.join(dirpath,name))"
   ]
  },
  {
   "cell_type": "markdown",
   "metadata": {},
   "source": [
    "https://micro.recursospython.com/recursos/como-recorrer-un-arbol-de-archivos-y-carpetas.html"
   ]
  },
  {
   "cell_type": "code",
   "execution_count": 43,
   "metadata": {},
   "outputs": [
    {
     "name": "stdout",
     "output_type": "stream",
     "text": [
      "9\n",
      " \n",
      "                        \n",
      "                                                                                                                                                             \n",
      "                                                                                                                                                                                                                      \n",
      "                                                                                                                                                \n",
      "                                                                                                                                                                                                                                                                                                                \n",
      "333 Collins Street, Level 12  \n",
      "Melbourne  \n",
      "VIC 3000  \n",
      "Australia  \n",
      "T:  +61 3 8678 3500  \n",
      "F:  +61 3 3676 3505  \n",
      "Worley Limited  \n",
      "Comp any No:  \n",
      "© Copyright 2020 Worley ACN 096 090 158. No part  of this d ocu ment or the information it conta ins may be reproduced or transmitted in any \n",
      "form or by any means electronic or mechanical, including photo copying, recording, or by any information stora ge and retri eval system, without \n",
      "permission in writing from Worley  \n",
      "Wor ley.co m         \n",
      " 1  \n",
      "Aconex Training Syllabus  \n",
      " \n",
      "User Guid e for Trainer s  \n",
      " \n",
      " \n",
      " \n",
      "Document No :  IT-GPDS -GSR 0000 -ACX -DC -GUI -0001- R0 \n",
      "    15th Jun 2020 \n",
      " \n",
      " \n"
     ]
    }
   ],
   "source": [
    "#pip install PyPDF2\n",
    "\n",
    "from PyPDF2 import PdfReader\n",
    "\n",
    "reader = PdfReader(\"c:Doc2\\IT-GPDS-GSR0000-ACX-DC-GUI-0001-R0.pdf\")\n",
    "number_of_pages = len(reader.pages)\n",
    "page = reader.pages[0]\n",
    "text = page.extract_text()\n",
    "\n",
    "print(number_of_pages)\n",
    "#print(page)\n",
    "print(text)\n"
   ]
  }
 ],
 "metadata": {
  "kernelspec": {
   "display_name": "Python 3.10.6 64-bit",
   "language": "python",
   "name": "python3"
  },
  "language_info": {
   "codemirror_mode": {
    "name": "ipython",
    "version": 3
   },
   "file_extension": ".py",
   "mimetype": "text/x-python",
   "name": "python",
   "nbconvert_exporter": "python",
   "pygments_lexer": "ipython3",
   "version": "3.10.6"
  },
  "orig_nbformat": 4,
  "vscode": {
   "interpreter": {
    "hash": "971efec45faeae1f145ed65e3129df3249e0119696cee29449c9a977ce420e95"
   }
  }
 },
 "nbformat": 4,
 "nbformat_minor": 2
}
